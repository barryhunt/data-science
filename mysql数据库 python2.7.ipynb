{
 "cells": [
  {
   "cell_type": "code",
   "execution_count": 1,
   "metadata": {
    "collapsed": true
   },
   "outputs": [],
   "source": [
    "import MySQLdb"
   ]
  },
  {
   "cell_type": "markdown",
   "metadata": {},
   "source": [
    "## 连接数据库"
   ]
  },
  {
   "cell_type": "code",
   "execution_count": 2,
   "metadata": {
    "collapsed": true
   },
   "outputs": [],
   "source": [
    "#连接数据库,数据库中已经有一个测试数据库‘python_test’\n",
    "con = MySQLdb.connect(host=\"localhost\", user=\"root\", passwd=\"lxm123456\",db=\"python_test\",port=3306)"
   ]
  },
  {
   "cell_type": "markdown",
   "metadata": {},
   "source": [
    "在这里， 我们虽然拿到了python的数据库连接， 但是不能在这个对象上直接对数据库进行操作， 还需要获取对应的操作游标才能进行数据库的操作，所以还需要进行下面的操作："
   ]
  },
  {
   "cell_type": "code",
   "execution_count": 3,
   "metadata": {
    "collapsed": true
   },
   "outputs": [],
   "source": [
    "cur = con.cursor()"
   ]
  },
  {
   "cell_type": "markdown",
   "metadata": {},
   "source": [
    "## 创建表格"
   ]
  },
  {
   "cell_type": "code",
   "execution_count": null,
   "metadata": {
    "collapsed": true
   },
   "outputs": [],
   "source": [
    "cur.execute('create table stu_info (name char(128) not null default \"\",age tinyint(3) not null default 0, sex enum(\"man\",\"femal\") not null default \"man\") engine=innodb charset=utf8')\n",
    "    #0L"
   ]
  },
  {
   "cell_type": "markdown",
   "metadata": {},
   "source": [
    "cur.execute 返回执行的sql 影响的行数， 因为这里是创建数据库， 所以是0L行\n",
    "\n",
    "但到这里还并没有真正执行了sql语句， 必须使用MySQLdb.commit才是真正执行完毕"
   ]
  },
  {
   "cell_type": "code",
   "execution_count": 10,
   "metadata": {
    "collapsed": true
   },
   "outputs": [],
   "source": [
    "con.commit()\n",
    "#到这里， 我们的表格才算真正创建完成"
   ]
  },
  {
   "cell_type": "markdown",
   "metadata": {},
   "source": [
    "## 更新表数据"
   ]
  },
  {
   "cell_type": "markdown",
   "metadata": {},
   "source": [
    "同理， 往表中写数据， 也是一样的操作流程 :先execute，然后commit;\n",
    "不过， 更新数据的execute 稍有不同， 往表中写入数据时， 执行execute 方法， 有两种方式，第二种更好\n",
    "    \n",
    "    （1） 一种是直接execute(sql)， 然后commit 完成， sql里是写入的sql 语句"
   ]
  },
  {
   "cell_type": "code",
   "execution_count": 11,
   "metadata": {
    "collapsed": true
   },
   "outputs": [],
   "source": [
    "cur.execute(\"insert into stu_info (name, age, sex) values ('Yi_Zhi_Yu',25,'man')\")\n",
    "con.commit()"
   ]
  },
  {
   "cell_type": "markdown",
   "metadata": {},
   "source": [
    "这会直接写入表中，但还有另外一种方式.\n",
    "        \n",
    "    （2）execute 可以接受两个参数， 第一个参数是sql语句， 不过这个sql中的values的内容使用占位符%s表示，第二个参数是实际的写入的values列表， 如下：\n",
    "\n"
   ]
  },
  {
   "cell_type": "code",
   "execution_count": 12,
   "metadata": {
    "collapsed": true
   },
   "outputs": [],
   "source": [
    "cur.execute(\"insert into stu_info (name, age, sex) values (%s,%s,%s)\", (\"Tony\",25, \"man\"))\n",
    "con.commit()"
   ]
  },
  {
   "cell_type": "markdown",
   "metadata": {},
   "source": [
    "这种方式与第一中方式相比， 更清晰一些， 安全性也更好， 能有效防止sql注入"
   ]
  },
  {
   "cell_type": "markdown",
   "metadata": {},
   "source": [
    "另外， cursor还有一个executemany, 参数和execute一样， 不过第二个参数可以传递多列表值， 达到多次执行某个语句的效果"
   ]
  },
  {
   "cell_type": "code",
   "execution_count": 14,
   "metadata": {
    "collapsed": true
   },
   "outputs": [],
   "source": [
    "cur.executemany(\"insert into stu_info (name, age, sex) values (%s,%s,%s)\",((\"LiMei\",26,\"femal\"),(\"YuanYuan\",28,\"femal\")))\n",
    "con.commit()\n",
    "#这里实际上就是执行了两次插入操作"
   ]
  },
  {
   "cell_type": "markdown",
   "metadata": {},
   "source": [
    "## 数据查询"
   ]
  },
  {
   "cell_type": "code",
   "execution_count": 15,
   "metadata": {
    "collapsed": true
   },
   "outputs": [],
   "source": [
    "#例如\n",
    "cur.execute(\"select * from stu_info\")\n",
    "stus = cur.fetchall() "
   ]
  },
  {
   "cell_type": "code",
   "execution_count": 16,
   "metadata": {},
   "outputs": [
    {
     "data": {
      "text/plain": [
       "(('Yi_Zhi_Yu', 25, 'man'),\n",
       " ('Tony', 25, 'man'),\n",
       " ('LiMei', 26, 'femal'),\n",
       " ('YuanYuan', 28, 'femal'),\n",
       " ('LiMei', 26, 'femal'),\n",
       " ('YuanYuan', 28, 'femal'))"
      ]
     },
     "execution_count": 16,
     "metadata": {},
     "output_type": "execute_result"
    }
   ],
   "source": [
    "stus"
   ]
  },
  {
   "cell_type": "code",
   "execution_count": 17,
   "metadata": {},
   "outputs": [
    {
     "name": "stdout",
     "output_type": "stream",
     "text": [
      "name: Yi_Zhi_Yu; age: 25; sex: man\n",
      "name: Tony; age: 25; sex: man\n",
      "name: LiMei; age: 26; sex: femal\n",
      "name: YuanYuan; age: 28; sex: femal\n",
      "name: LiMei; age: 26; sex: femal\n",
      "name: YuanYuan; age: 28; sex: femal\n"
     ]
    }
   ],
   "source": [
    "#tuple形式， 我们可以通过循环输出：\n",
    "for stu in stus:\n",
    "    print \"name: %s; age: %d; sex: %s\" %(stu[0], stu[1], stu[2])"
   ]
  },
  {
   "cell_type": "markdown",
   "metadata": {},
   "source": [
    "那上面的查询虽然得到了每行的数据， 但结果集中并没有字段名， 如果要返回字段名， 如下操作："
   ]
  },
  {
   "cell_type": "code",
   "execution_count": 18,
   "metadata": {},
   "outputs": [
    {
     "data": {
      "text/plain": [
       "({'age': 25, 'name': 'Yi_Zhi_Yu', 'sex': 'man'},\n",
       " {'age': 25, 'name': 'Tony', 'sex': 'man'},\n",
       " {'age': 26, 'name': 'LiMei', 'sex': 'femal'},\n",
       " {'age': 28, 'name': 'YuanYuan', 'sex': 'femal'},\n",
       " {'age': 26, 'name': 'LiMei', 'sex': 'femal'},\n",
       " {'age': 28, 'name': 'YuanYuan', 'sex': 'femal'})"
      ]
     },
     "execution_count": 18,
     "metadata": {},
     "output_type": "execute_result"
    }
   ],
   "source": [
    "cur = con.cursor(cursorclass=MySQLdb.cursors.DictCursor)\n",
    "cur.execute(\"select * from stu_info\")\n",
    "cur.fetchall()"
   ]
  },
  {
   "cell_type": "markdown",
   "metadata": {},
   "source": [
    "每个元素都是一个dict, 以key-value的形式展示了每个字段和对应的值"
   ]
  },
  {
   "cell_type": "markdown",
   "metadata": {},
   "source": [
    "## 总结"
   ]
  },
  {
   "cell_type": "code",
   "execution_count": null,
   "metadata": {
    "collapsed": true
   },
   "outputs": [],
   "source": []
  }
 ],
 "metadata": {
  "kernelspec": {
   "display_name": "Python 2",
   "language": "python",
   "name": "python2"
  },
  "language_info": {
   "codemirror_mode": {
    "name": "ipython",
    "version": 2
   },
   "file_extension": ".py",
   "mimetype": "text/x-python",
   "name": "python",
   "nbconvert_exporter": "python",
   "pygments_lexer": "ipython2",
   "version": "2.7.13"
  }
 },
 "nbformat": 4,
 "nbformat_minor": 2
}
