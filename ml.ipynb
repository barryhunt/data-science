{
 "cells": [
  {
   "cell_type": "markdown",
   "metadata": {},
   "source": [
    "# 一、装载数据"
   ]
  },
  {
   "cell_type": "markdown",
   "metadata": {},
   "source": [
    "我们的数据需要是numpy的数组，或者scipy的矩阵，其他类型的数据需要转换为数组的形式，像pandas的dataframe也是可以的"
   ]
  },
  {
   "cell_type": "markdown",
   "metadata": {},
   "source": [
    "（1）监督学习估计器"
   ]
  },
  {
   "cell_type": "markdown",
   "metadata": {},
   "source": [
    "    （一）标准化（Z-Score）  \n",
    "    公式：(X-mean)/std   \n",
    "    效果：对于每个属性/每列来说所有数据都聚集在0附近，方差为1\n",
    "    使用目的：数据标准化主要功能就是消除变量间的量纲关系，从而使数据具有可比性\n",
    "    \n",
    "    （二）归一化（缩放）\n",
    "    公式：X_scaled=X_std/(max-min)+min\n",
    "    效果：将属性缩放到一个指定的最大和最小值（通常是0-1）之间\n",
    "    使用目的：\n",
    "    1、对于方差非常小的属性可以增强其稳定性。\n",
    "    2、维持稀疏矩阵中为0的条目。\n",
    "    3、加快训练速度。基本上所有的机器学习算法进行训练前都要进行归一化，除非你确定所有特征的范围一致，这样可以加快收敛速度。\n",
    "    4、计算样本之间的距离时，降低特征的值域范围广带来的影响，从而提高距离计算的精度。\n",
    "    \n",
    "    （三）正则化（Normalization）\n",
    "    公式：||X||p=(|x1|^p+|x2|^p+...+|xn|^p)^1/p\n",
    "    效果：使得每个处理后样本的p-范数（l1-norm,l2-norm）等于1，将每个样本缩放到单位范数（每个样本的范数为1）\n",
    "    使用目的：主要应用于文本分类和聚类中，对于两个TF-IDF向量的l2-norm进行点积，就可以得到这两个向量的余弦相似性\n",
    "            后面要使用如二次型（点积）或者其它核方法计算两个样本之间的相似性这个方法会很有用。\n",
    "            \n",
    "    （四）非线性映射\n",
    "    公式：该方法包括 log、指数，正切等\n",
    "    效果：通过一些数学函数，将原始值进行映射\n",
    "    使用目的：经常用在数据分化比较大的场景，有些数值很大，有些很小"
   ]
  },
  {
   "cell_type": "markdown",
   "metadata": {},
   "source": [
    "数据的预处理\n",
    "\n",
    "可以参考这篇文章 (http://www.afenxi.com/post/41476)\n",
    "\n",
    "或者http://shujuren.org/article/234.html"
   ]
  },
  {
   "cell_type": "code",
   "execution_count": 127,
   "metadata": {
    "collapsed": true
   },
   "outputs": [],
   "source": [
    "#标准化（standardization）\n",
    "from sklearn.preprocessing import StandardScaler\n",
    "scaler=StandardScaler().fit(X_train)\n",
    "standardized_X=scaler.transform(X_train)\n",
    "standardized_X_test=scaler.transform(X_test)"
   ]
  },
  {
   "cell_type": "code",
   "execution_count": 128,
   "metadata": {
    "collapsed": true
   },
   "outputs": [],
   "source": [
    "#正则化（Normalization）\n",
    "from sklearn.preprocessing import  Normalizer\n",
    "scaler=Normalizer().fit(X_train)\n",
    "normalized_X=scaler.transform(X_train)\n",
    "normalized_X_test=scaler.transform(X_test)"
   ]
  },
  {
   "cell_type": "code",
   "execution_count": 130,
   "metadata": {
    "collapsed": true
   },
   "outputs": [],
   "source": [
    "#二值化binarization，阈值0.0，大于阈值标记为1\n",
    "from sklearn.preprocessing import  Binarizer\n",
    "binarizer=Binarizer(threshold=0.0).fit(X)\n",
    "binary_X=binarizer.transform(X)"
   ]
  },
  {
   "cell_type": "code",
   "execution_count": 132,
   "metadata": {},
   "outputs": [],
   "source": [
    "#分类变量编码\n",
    "from sklearn.preprocessing import LabelEncoder\n",
    "enc=LabelEncoder()\n",
    "y=enc.fit_transform(y)"
   ]
  },
  {
   "cell_type": "code",
   "execution_count": 135,
   "metadata": {},
   "outputs": [
    {
     "data": {
      "text/plain": [
       "array([[ 0.77716576,  0.10949287,  0.16557672,  0.37717926,  0.52075047],\n",
       "       [ 0.9768474 ,  0.58841396,  0.90106901,  0.6311938 ,  0.19264754],\n",
       "       [ 0.83669815,  0.62460285,  0.13855808,  0.87548089,  0.90208272],\n",
       "       [ 0.56700936,  0.46604143,  0.87966502,  0.0416925 ,  0.40855075],\n",
       "       [ 0.0747161 ,  0.41481283,  0.07586417,  0.9470342 ,  0.46299087],\n",
       "       [ 0.03546804,  0.6456994 ,  0.52128713,  0.93130834,  0.53349103],\n",
       "       [ 0.81027312,  0.93091396,  0.89134421,  0.7460123 ,  0.11728856]])"
      ]
     },
     "execution_count": 135,
     "metadata": {},
     "output_type": "execute_result"
    }
   ],
   "source": [
    "#处理缺失数据\n",
    "from sklearn.preprocessing import  Imputer\n",
    "imp=Imputer(missing_values=0,strategy='mean',axis=0)\n",
    "imp.fit_transform(X_train)"
   ]
  },
  {
   "attachments": {
    "QQ%E6%88%AA%E5%9B%BE20170612143631.png": {
     "image/png": "[encoded data removed]"
    }
   },
   "cell_type": "markdown",
   "metadata": {},
   "source": [
    "![QQ%E6%88%AA%E5%9B%BE20170612143631.png](attachment:QQ%E6%88%AA%E5%9B%BE20170612143631.png)"
   ]
  },
  {
   "cell_type": "code",
   "execution_count": 137,
   "metadata": {},
   "outputs": [
    {
     "data": {
      "text/plain": [
       "<bound method PolynomialFeatures.fit_transform of PolynomialFeatures(degree=5, include_bias=True, interaction_only=False)>"
      ]
     },
     "execution_count": 137,
     "metadata": {},
     "output_type": "execute_result"
    }
   ],
   "source": [
    "#产生多项式特征,如图\n",
    "from sklearn.preprocessing import PolynomialFeatures\n",
    "poly=PolynomialFeatures(5)\n",
    "poly.fit_transform"
   ]
  },
  {
   "cell_type": "code",
   "execution_count": 26,
   "metadata": {},
   "outputs": [
    {
     "name": "stdout",
     "output_type": "stream",
     "text": [
      "[[ 0.03546804  0.6456994   0.52128713  0.93130834  0.53349103]\n",
      " [ 0.9768474   0.58841396  0.90106901  0.6311938   0.19264754]\n",
      " [ 0.06439212  0.82471942  0.68979943  0.53010229  0.03980094]\n",
      " [ 0.0747161   0.41481283  0.07586417  0.9470342   0.46299087]\n",
      " [ 0.20009369  0.84862829  0.18303969  0.47662696  0.86897306]\n",
      " [ 0.81027312  0.93091396  0.89134421  0.7460123   0.11728856]\n",
      " [ 0.83669815  0.62460285  0.13855808  0.87548089  0.90208272]\n",
      " [ 0.56700936  0.46604143  0.87966502  0.0416925   0.40855075]\n",
      " [ 0.93908243  0.52229472  0.0566155   0.79555997  0.93342816]\n",
      " [ 0.77716576  0.10949287  0.16557672  0.37717926  0.52075047]]\n",
      "['M' 'M' 'F' 'F' 'M' 'F' 'M' 'M' 'F' 'F']\n"
     ]
    }
   ],
   "source": [
    "import numpy as np\n",
    "X=np.random.random((10,5))\n",
    "y=np.array(['M','M','F','F','M','F','M','M','F','F'])\n",
    "print X\n",
    "print y"
   ]
  },
  {
   "cell_type": "code",
   "execution_count": 27,
   "metadata": {
    "collapsed": true
   },
   "outputs": [],
   "source": [
    "from sklearn.cross_validation import  train_test_split\n",
    "X_train,X_test,y_train,y_test=train_test_split(X,y,random_state=0)"
   ]
  },
  {
   "cell_type": "code",
   "execution_count": 123,
   "metadata": {},
   "outputs": [
    {
     "data": {
      "text/plain": [
       "array(['F', 'M', 'M', 'M', 'F', 'M', 'F'], \n",
       "      dtype='|S1')"
      ]
     },
     "execution_count": 123,
     "metadata": {},
     "output_type": "execute_result"
    }
   ],
   "source": [
    "y_train"
   ]
  },
  {
   "cell_type": "code",
   "execution_count": 28,
   "metadata": {
    "collapsed": true
   },
   "outputs": [],
   "source": [
    "#(1)线性回归linearRegression\n",
    "from sklearn.linear_model import LinearRegression\n",
    "lr=LinearRegression(normalize=True)"
   ]
  },
  {
   "cell_type": "markdown",
   "metadata": {
    "collapsed": true
   },
   "source": [
    "help(LinearRegression)  #也可以是help(lr) "
   ]
  },
  {
   "cell_type": "code",
   "execution_count": 29,
   "metadata": {
    "collapsed": true
   },
   "outputs": [],
   "source": [
    "#(2)支持向量机svm\n",
    "from sklearn.svm import SVC\n",
    "svc=SVC(kernel='linear')  #核函数为线性的？"
   ]
  },
  {
   "cell_type": "markdown",
   "metadata": {
    "collapsed": true
   },
   "source": [
    "help(SVC)"
   ]
  },
  {
   "cell_type": "code",
   "execution_count": 30,
   "metadata": {
    "collapsed": true
   },
   "outputs": [],
   "source": [
    "#(3)朴素贝耶斯\n",
    "from sklearn.naive_bayes import GaussianNB\n",
    "gnb=GaussianNB()"
   ]
  },
  {
   "cell_type": "markdown",
   "metadata": {},
   "source": [
    "help(GaussianNB)"
   ]
  },
  {
   "cell_type": "code",
   "execution_count": 31,
   "metadata": {
    "collapsed": true
   },
   "outputs": [],
   "source": [
    "#(3)K最近邻knn\n",
    "from sklearn import neighbors\n",
    "knn=neighbors.KNeighborsClassifier(n_neighbors=5)"
   ]
  },
  {
   "cell_type": "markdown",
   "metadata": {
    "collapsed": true
   },
   "source": [
    "help(knn)"
   ]
  },
  {
   "cell_type": "markdown",
   "metadata": {},
   "source": [
    "（2）非监督学习估计器"
   ]
  },
  {
   "cell_type": "code",
   "execution_count": 32,
   "metadata": {
    "collapsed": true
   },
   "outputs": [],
   "source": [
    "#(1)主成分分析\n",
    "from sklearn.decomposition  import PCA\n",
    "pca=PCA(n_components=0.95)#保留的数量"
   ]
  },
  {
   "cell_type": "markdown",
   "metadata": {},
   "source": [
    "help(PCA)"
   ]
  },
  {
   "cell_type": "code",
   "execution_count": 33,
   "metadata": {
    "collapsed": true
   },
   "outputs": [],
   "source": [
    "#(2)k-mean\n",
    "from  sklearn.cluster import KMeans\n",
    "k_means=KMeans(n_clusters=3,random_state=0)"
   ]
  },
  {
   "cell_type": "markdown",
   "metadata": {},
   "source": [
    "help(KMeans)"
   ]
  },
  {
   "cell_type": "markdown",
   "metadata": {},
   "source": [
    "# 四、训练模型"
   ]
  },
  {
   "cell_type": "code",
   "execution_count": 120,
   "metadata": {},
   "outputs": [
    {
     "data": {
      "text/plain": [
       "SVC(C=1.0, cache_size=200, class_weight=None, coef0=0.0,\n",
       "  decision_function_shape=None, degree=3, gamma='auto', kernel='linear',\n",
       "  max_iter=-1, probability=False, random_state=None, shrinking=True,\n",
       "  tol=0.001, verbose=False)"
      ]
     },
     "execution_count": 120,
     "metadata": {},
     "output_type": "execute_result"
    }
   ],
   "source": [
    "#(1)监督学习训练过程\n",
    "lr.fit(list(df[u'特征']),list(df[u'类别']))\n",
    "# 需要先将y转变为数值型\n",
    "import pandas as pd\n",
    "df=zip(X,y) \n",
    "df=pd.DataFrame(df,columns={u'特征',u'类别'})\n",
    "y_mapping = {\"M\": 1, \"F\":0 }\n",
    "df[u'类别']=df[u'类别'].map(y_mapping)\n",
    "\n",
    "#\n",
    "knn.fit(X_train,y_train)\n",
    "#\n",
    "svc.fit(X_train,y_train)"
   ]
  },
  {
   "cell_type": "code",
   "execution_count": 125,
   "metadata": {
    "collapsed": true
   },
   "outputs": [],
   "source": [
    "#（2）非监督学习的训练过程\n",
    "k_means.fit(X_test)\n",
    "pca_model=pca.fit_transform(X_train)"
   ]
  },
  {
   "cell_type": "markdown",
   "metadata": {},
   "source": [
    "# 五、预测"
   ]
  },
  {
   "cell_type": "code",
   "execution_count": null,
   "metadata": {
    "collapsed": true
   },
   "outputs": [],
   "source": [
    "#（1）监督学习的预测过程\n",
    "y_pred=svc.predict(np.random.random((2,5)))\n",
    "y_pred=lr.predict(X_test)\n",
    "y_pred=knn.predict_proba(X_test)"
   ]
  },
  {
   "cell_type": "code",
   "execution_count": 126,
   "metadata": {
    "collapsed": true
   },
   "outputs": [],
   "source": [
    "#(2)非监督学习的预测过程\n",
    "y_pred=k_means.predict(X_test)"
   ]
  },
  {
   "cell_type": "markdown",
   "metadata": {},
   "source": [
    "# 六、模型评价"
   ]
  },
  {
   "cell_type": "code",
   "execution_count": null,
   "metadata": {
    "collapsed": true
   },
   "outputs": [],
   "source": []
  }
 ],
 "metadata": {
  "kernelspec": {
   "display_name": "Python 2",
   "language": "python",
   "name": "python2"
  },
  "language_info": {
   "codemirror_mode": {
    "name": "ipython",
    "version": 2
   },
   "file_extension": ".py",
   "mimetype": "text/x-python",
   "name": "python",
   "nbconvert_exporter": "python",
   "pygments_lexer": "ipython2",
   "version": "2.7.13"
  }
 },
 "nbformat": 4,
 "nbformat_minor": 2
}
